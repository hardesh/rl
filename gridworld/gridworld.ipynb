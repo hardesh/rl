{
 "cells": [
  {
   "cell_type": "markdown",
   "metadata": {},
   "source": [
    "# Grid World RL\n",
    "\n",
    "* Agent - Jack\n",
    "* Environment - Mansion with 4x4 rooms\n",
    "* Rewards - amount of gold collected\n",
    "* Actions - movement from one room to next one\n",
    "* State - present room location\n",
    "\n",
    "Per episode there are fixed number of actions\n",
    "\n",
    "The env is available in grid_env.py\n",
    "\n",
    "**Higher exploration rate implies less episodes**"
   ]
  },
  {
   "cell_type": "code",
   "execution_count": 1,
   "metadata": {},
   "outputs": [],
   "source": [
    "import numpy as np\n",
    "import matplotlib.pyplot as plt\n",
    "\n",
    "from grid_env import GridWorldEnv"
   ]
  },
  {
   "cell_type": "code",
   "execution_count": 2,
   "metadata": {},
   "outputs": [
    {
     "name": "stdout",
     "output_type": "stream",
     "text": [
      "Present Grid: \n",
      "[[0. 0. 0. 0.]\n",
      " [0. 0. 0. 0.]\n",
      " [0. 0. 0. 0.]\n",
      " [0. 0. 0. 0.]]\n",
      "\n"
     ]
    }
   ],
   "source": [
    "env = GridWorldEnv()\n",
    "env.render()"
   ]
  },
  {
   "cell_type": "code",
   "execution_count": 3,
   "metadata": {},
   "outputs": [
    {
     "name": "stdout",
     "output_type": "stream",
     "text": [
      "16\n",
      "4\n"
     ]
    }
   ],
   "source": [
    "observation_space = env.grid.size\n",
    "action_space = len(env.actions.keys())\n",
    "print(observation_space)\n",
    "print(action_space)"
   ]
  },
  {
   "cell_type": "markdown",
   "metadata": {},
   "source": [
    "## Learning the policy\n",
    "\n",
    "Here a Q-table based learning method is used. Evolutionary algorithm wasn't used in this case beacause they need large number of episodes to converge to an optimal policy.\n",
    "\n",
    "Value iteration or policy iteration wasn't used because they need the transition probabilities. \n",
    "\n",
    "An optimal policy is obtained in q-learning by greedily selecting the highest value for an action while being in a particular state. The exploration rate takes decides the greedy-ness of the policy. In the process all we're doing is maximizing the reward for the agent. \n",
    "\n",
    "Higher exploration rate --> Lower number of episodes required to get an optimal policy.\n",
    "\n",
    "The discount factor decides whether we care about future rewards. If the discount factor is set to 0 then the agent will only care about immediate rewards. This can help the agent to converge faster to an optimal policy if the rewards are not sparse. \n",
    "\n",
    "In the given case it was observed that keeping gamma to a low value makes the agent learn the policy faster."
   ]
  },
  {
   "cell_type": "code",
   "execution_count": 4,
   "metadata": {},
   "outputs": [],
   "source": [
    "class QLearning():\n",
    "    \"\"\"\n",
    "    Q-table based learning algorithm\n",
    "    \"\"\"\n",
    "    \n",
    "    def __init__(self, env, exp_rate=0.5, gamma=0.95, lr=0.01):\n",
    "        self.env = env\n",
    "        self.exp_rate = exp_rate\n",
    "        self.gamma = gamma\n",
    "        self.lr = lr\n",
    "        \n",
    "        self.env.exp_rate = self.exp_rate\n",
    "        \n",
    "        self.Q = np.zeros((self.env.observation_space, self.env.action_space))\n",
    "    \n",
    "    def get_action(self, state, explore = True):\n",
    "        \"\"\"Epsilon greedy selection of epsilon in the explore phase.\n",
    "        Args:\n",
    "            state (np.ndarray): Environment state.\n",
    "            explore (bool, optional): True if exploration is required. \n",
    "                                      False if not(when we're trying to evaluate the policy set this).\n",
    "        \n",
    "        Returns:\n",
    "            int: action.\n",
    "        \"\"\"\n",
    "        # selecting random action between [up,down,left,right]. \n",
    "        # The index below is just the index of the action in the array\n",
    "        action = np.random.randint(low=0, high=self.env.action_space)\n",
    "        if explore:    \n",
    "            if np.random.uniform(0, 1) < self.exp_rate:\n",
    "                # exploration\n",
    "                return action\n",
    "                \n",
    "            # exploitation: choosing the action which gives most reward. Assuming agent can only see the next state\n",
    "        if np.argmax(self.Q[state,:]) is not None:\n",
    "            return np.argmax(self.Q[state, :]) % 4\n",
    "        else:\n",
    "            return action\n",
    "    \n",
    "    def update(self, transition):\n",
    "        \"\"\"\n",
    "        Updates the Q-Table during the training process. \n",
    "        \"\"\"\n",
    "        state, action, reward, new_state = transition\n",
    "        self.Q[state, action] = self.Q[state, action] + self.lr * (reward + self.gamma * np.max(self.Q[new_state, :]) - self.Q[state, action])\n",
    "    "
   ]
  },
  {
   "cell_type": "markdown",
   "metadata": {},
   "source": [
    "### Setting parameters for training"
   ]
  },
  {
   "cell_type": "code",
   "execution_count": 5,
   "metadata": {},
   "outputs": [],
   "source": [
    "episodes = 5000\n",
    "MAX_ACTIONS = 6 # max actions per episode. given in the question\n",
    "\n",
    "env = GridWorldEnv()\n",
    "agent = QLearning(env, exp_rate=0.9, gamma=0.95) # for faster convergence the exploration rate is set to 0.9\n",
    "ep_rewards = []\n",
    "temp_actions = list(env.actions.keys()) # list of actions"
   ]
  },
  {
   "cell_type": "markdown",
   "metadata": {},
   "source": [
    "### Training the policy"
   ]
  },
  {
   "cell_type": "code",
   "execution_count": 6,
   "metadata": {},
   "outputs": [
    {
     "name": "stdout",
     "output_type": "stream",
     "text": [
      "Present Grid: \n",
      "[[0. 0. 0. 0.]\n",
      " [5. 0. 0. 0.]\n",
      " [0. 0. 0. 0.]\n",
      " [0. 0. 0. 0.]]\n",
      "\n",
      "[DEBUG]: Prev State [0 0], New State [0 1]\n",
      "\n"
     ]
    }
   ],
   "source": [
    "for episode in range(episodes):\n",
    "    episode_rew = 0\n",
    "    for num_action in range(MAX_ACTIONS):\n",
    "        # Finding information needed for the learing algorihm\n",
    "        pre_state = env.state\n",
    "        action = agent.get_action(env.state)\n",
    "        next_state = env.step(temp_actions[action], update=True)\n",
    "        reward = env.getReward(env.state)\n",
    "        # Updating the Q-table\n",
    "        agent.update((pre_state, action, reward, next_state))\n",
    "        \n",
    "        episode_rew += reward\n",
    "    if episode % 5000 == 0:\n",
    "        # the environment is displayed after every 5000 iterations to reduce CPU usage\n",
    "        env.render()\n",
    "        print(\"[DEBUG]: Prev State {}, New State {}\".format(pre_state, next_state))\n",
    "        print()\n",
    "        \n",
    "    env.reset() \n",
    "    ep_rewards.append(episode_rew)"
   ]
  },
  {
   "cell_type": "code",
   "execution_count": 7,
   "metadata": {},
   "outputs": [],
   "source": [
    "# print(agent.Q)\n",
    "# print(env.state)\n",
    "# print(np.argmax(agent.Q[env.state, :]))\n",
    "# print(agent.Q[env.state, :])"
   ]
  },
  {
   "cell_type": "markdown",
   "metadata": {},
   "source": [
    "### Evaluating the policy"
   ]
  },
  {
   "cell_type": "code",
   "execution_count": 8,
   "metadata": {},
   "outputs": [
    {
     "name": "stdout",
     "output_type": "stream",
     "text": [
      "[0 1]\n",
      "Present Grid: \n",
      "[[0. 0. 0. 0.]\n",
      " [1. 0. 0. 0.]\n",
      " [0. 0. 0. 0.]\n",
      " [0. 0. 0. 0.]]\n",
      "\n",
      "[1 1]\n",
      "Present Grid: \n",
      "[[0. 0. 0. 0.]\n",
      " [1. 2. 0. 0.]\n",
      " [0. 0. 0. 0.]\n",
      " [0. 0. 0. 0.]]\n",
      "\n",
      "[2 1]\n",
      "Present Grid: \n",
      "[[0. 0. 0. 0.]\n",
      " [1. 2. 3. 0.]\n",
      " [0. 0. 0. 0.]\n",
      " [0. 0. 0. 0.]]\n",
      "\n",
      "[3 1]\n",
      "Present Grid: \n",
      "[[0. 0. 0. 0.]\n",
      " [1. 2. 3. 4.]\n",
      " [0. 0. 0. 0.]\n",
      " [0. 0. 0. 0.]]\n",
      "\n",
      "[3 2]\n",
      "Present Grid: \n",
      "[[0. 0. 0. 0.]\n",
      " [1. 2. 3. 4.]\n",
      " [0. 0. 0. 5.]\n",
      " [0. 0. 0. 0.]]\n",
      "\n",
      "[3 3]\n",
      "Present Grid: \n",
      "[[0. 0. 0. 0.]\n",
      " [1. 2. 3. 4.]\n",
      " [0. 0. 0. 5.]\n",
      " [0. 0. 0. 6.]]\n",
      "\n",
      "\n",
      "Reward gained for optimal policy is: 16\n"
     ]
    }
   ],
   "source": [
    "env.reset()\n",
    "rew = 0\n",
    "for num in range(MAX_ACTIONS):\n",
    "    pre_state = env.state\n",
    "    action = agent.get_action(env.state, explore=False)\n",
    "    next_state = env.step(temp_actions[action], update=True)\n",
    "    reward = env.getReward(env.state)\n",
    "    rew += reward\n",
    "    print(next_state)\n",
    "    env.render()\n",
    "\n",
    "print(\"\\nReward gained for optimal policy is: {}\".format(rew))"
   ]
  },
  {
   "cell_type": "code",
   "execution_count": 9,
   "metadata": {},
   "outputs": [
    {
     "data": {
      "image/png": "[encoded data removed]",
      "text/plain": [
       "<Figure size 432x288 with 1 Axes>"
      ]
     },
     "metadata": {
      "needs_background": "light"
     },
     "output_type": "display_data"
    }
   ],
   "source": [
    "plt.plot(ep_rewards)\n",
    "plt.xlabel(\"No of episodes\")\n",
    "plt.ylabel(\"Reward per episode\")\n",
    "plt.show()"
   ]
  },
  {
   "cell_type": "code",
   "execution_count": null,
   "metadata": {},
   "outputs": [],
   "source": []
  }
 ],
 "metadata": {
  "kernelspec": {
   "display_name": "Python 3",
   "language": "python",
   "name": "python3"
  },
  "language_info": {
   "codemirror_mode": {
    "name": "ipython",
    "version": 3
   },
   "file_extension": ".py",
   "mimetype": "text/x-python",
   "name": "python",
   "nbconvert_exporter": "python",
   "pygments_lexer": "ipython3",
   "version": "3.6.9"
  }
 },
 "nbformat": 4,
 "nbformat_minor": 4
}
