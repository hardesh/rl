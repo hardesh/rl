{
 "cells": [
  {
   "cell_type": "markdown",
   "metadata": {},
   "source": [
    "# Grid World RL\n",
    "\n",
    "* Agent - Jack\n",
    "* Environment - Mansion with 4x4 rooms\n",
    "* Rewards - amount of gold collected\n",
    "* Actions - movement from one room to next one\n",
    "* State - present room location\n",
    "\n",
    "Per episode there are fixed number of actions\n",
    "\n",
    "The env is available in grid_env.py\n",
    "\n",
    "**Higher exploration rate implies less episodes**"
   ]
  },
  {
   "cell_type": "code",
   "execution_count": 1,
   "metadata": {},
   "outputs": [],
   "source": [
    "import numpy as np\n",
    "\n",
    "from grid_env import GridWorldEnv"
   ]
  },
  {
   "cell_type": "code",
   "execution_count": 2,
   "metadata": {},
   "outputs": [
    {
     "name": "stdout",
     "output_type": "stream",
     "text": [
      "Present Grid: \n",
      "[[0. 0. 0. 0.]\n",
      " [0. 0. 0. 0.]\n",
      " [0. 0. 0. 0.]\n",
      " [0. 0. 0. 0.]]\n",
      "\n"
     ]
    }
   ],
   "source": [
    "env = GridWorldEnv()\n",
    "env.render()"
   ]
  },
  {
   "cell_type": "code",
   "execution_count": 3,
   "metadata": {},
   "outputs": [
    {
     "name": "stdout",
     "output_type": "stream",
     "text": [
      "16\n",
      "4\n"
     ]
    }
   ],
   "source": [
    "observation_space = env.grid.size\n",
    "action_space = len(env.actions.keys())\n",
    "print(observation_space)\n",
    "print(action_space)"
   ]
  },
  {
   "cell_type": "code",
   "execution_count": 4,
   "metadata": {},
   "outputs": [],
   "source": [
    "class QLearning():\n",
    "    def __init__(self, env, exp_rate=0.5, gamma=0.95, lr=0.01):\n",
    "        self.env = env\n",
    "        self.exp_rate = exp_rate\n",
    "        self.gamma = gamma\n",
    "        self.lr = lr\n",
    "        \n",
    "        self.env.exp_rate = self.exp_rate\n",
    "        \n",
    "        self.Q = np.zeros((self.env.observation_space, self.env.action_space))\n",
    "    \n",
    "    def get_action(self, state, explore = True):\n",
    "        \"\"\"Epsilon greedy selection of epsilon in the explore phase.\n",
    "        Args:\n",
    "            state (np.ndarray): Environment state.\n",
    "            explore (bool, optional): True if exploration is required. False if not.\n",
    "        Returns:\n",
    "            int: action.\n",
    "        \"\"\"\n",
    "        action = np.random.randint(low=0, high=self.env.action_space)\n",
    "        if explore:    \n",
    "            if np.random.uniform(0, 1) < self.exp_rate:\n",
    "                # exploration\n",
    "                # action = np.random.choice(self.env.action_space)\n",
    "                return action\n",
    "                \n",
    "            # exploitation: choosing the action which gives most reward. Assuming agent can only see the next state\n",
    "        if np.argmax(self.Q[state,:]) is not None:\n",
    "            return np.argmax(self.Q[state, :]) % 4\n",
    "        else:\n",
    "            return action\n",
    "    \n",
    "    def update(self, transition):\n",
    "        state, action, reward, new_state = transition\n",
    "        self.Q[state, action] = self.Q[state, action] + self.lr * (reward + self.gamma * np.max(self.Q[new_state, :]) - self.Q[state, action])\n",
    "    "
   ]
  },
  {
   "cell_type": "code",
   "execution_count": 5,
   "metadata": {},
   "outputs": [],
   "source": [
    "episodes = 10000\n",
    "MAX_ACTIONS = 6\n",
    "\n",
    "env = GridWorldEnv()\n",
    "agent = QLearning(env, exp_rate=0.9)\n",
    "ep_rewards = []\n",
    "temp_actions = list(env.actions.keys())"
   ]
  },
  {
   "cell_type": "code",
   "execution_count": 6,
   "metadata": {},
   "outputs": [
    {
     "name": "stdout",
     "output_type": "stream",
     "text": [
      "Present Grid: \n",
      "[[0. 0. 0. 0.]\n",
      " [0. 0. 0. 0.]\n",
      " [0. 3. 0. 0.]\n",
      " [0. 0. 0. 0.]]\n",
      "\n",
      "[DEBUG]: Prev State [1 1], New State [1 2]\n"
     ]
    }
   ],
   "source": [
    "for episode in range(episodes):\n",
    "    episode_rew = 0\n",
    "    for num_action in range(MAX_ACTIONS):\n",
    "        pre_state = env.state\n",
    "        action = agent.get_action(env.state)\n",
    "#         print(action)\n",
    "        next_state = env.step(temp_actions[action], update=True)\n",
    "        reward = env.getReward(env.state)\n",
    "#         env.render()\n",
    "#         print(env.state)\n",
    "        agent.update((pre_state, action, reward, next_state))\n",
    "        \n",
    "        episode_rew += reward\n",
    "    if episode % 20000 == 0:\n",
    "        env.render()\n",
    "        print(\"[DEBUG]: Prev State {}, New State {}\".format(pre_state, next_state))\n",
    "    env.reset() \n",
    "    ep_rewards.append(episode_rew)"
   ]
  },
  {
   "cell_type": "code",
   "execution_count": 7,
   "metadata": {},
   "outputs": [
    {
     "name": "stdout",
     "output_type": "stream",
     "text": [
      "[[22.30212538 22.42732241 23.40323986 23.29485789]\n",
      " [22.54626504 22.58732761 23.47183111 23.95678438]\n",
      " [22.78103494 22.65703613 24.03054301 24.76267889]\n",
      " [21.86632459 21.86178346 25.88023347 23.29069452]\n",
      " [ 0.          0.          0.          0.        ]\n",
      " [ 0.          0.          0.          0.        ]\n",
      " [ 0.          0.          0.          0.        ]\n",
      " [ 0.          0.          0.          0.        ]\n",
      " [ 0.          0.          0.          0.        ]\n",
      " [ 0.          0.          0.          0.        ]\n",
      " [ 0.          0.          0.          0.        ]\n",
      " [ 0.          0.          0.          0.        ]\n",
      " [ 0.          0.          0.          0.        ]\n",
      " [ 0.          0.          0.          0.        ]\n",
      " [ 0.          0.          0.          0.        ]\n",
      " [ 0.          0.          0.          0.        ]]\n",
      "2\n",
      "[[22.30212538 22.42732241 23.40323986 23.29485789]\n",
      " [22.30212538 22.42732241 23.40323986 23.29485789]]\n"
     ]
    }
   ],
   "source": [
    "print(agent.Q)\n",
    "# print(env.state)\n",
    "print(np.argmax(agent.Q[env.state, :]))\n",
    "print(agent.Q[env.state, :])"
   ]
  },
  {
   "cell_type": "code",
   "execution_count": 8,
   "metadata": {},
   "outputs": [
    {
     "name": "stdout",
     "output_type": "stream",
     "text": [
      "[0 1]\n",
      "Present Grid: \n",
      "[[0. 0. 0. 0.]\n",
      " [1. 0. 0. 0.]\n",
      " [0. 0. 0. 0.]\n",
      " [0. 0. 0. 0.]]\n",
      "\n",
      "[1 1]\n",
      "Present Grid: \n",
      "[[0. 0. 0. 0.]\n",
      " [1. 2. 0. 0.]\n",
      " [0. 0. 0. 0.]\n",
      " [0. 0. 0. 0.]]\n",
      "\n",
      "[2 1]\n",
      "Present Grid: \n",
      "[[0. 0. 0. 0.]\n",
      " [1. 2. 3. 0.]\n",
      " [0. 0. 0. 0.]\n",
      " [0. 0. 0. 0.]]\n",
      "\n",
      "[3 1]\n",
      "Present Grid: \n",
      "[[0. 0. 0. 0.]\n",
      " [1. 2. 3. 4.]\n",
      " [0. 0. 0. 0.]\n",
      " [0. 0. 0. 0.]]\n",
      "\n",
      "[3 2]\n",
      "Present Grid: \n",
      "[[0. 0. 0. 0.]\n",
      " [1. 2. 3. 4.]\n",
      " [0. 0. 0. 5.]\n",
      " [0. 0. 0. 0.]]\n",
      "\n",
      "[3 3]\n",
      "Present Grid: \n",
      "[[0. 0. 0. 0.]\n",
      " [1. 2. 3. 4.]\n",
      " [0. 0. 0. 5.]\n",
      " [0. 0. 0. 6.]]\n",
      "\n"
     ]
    }
   ],
   "source": [
    "env.reset()\n",
    "for num in range(MAX_ACTIONS):\n",
    "    pre_state = env.state\n",
    "    action = agent.get_action(env.state, explore=False)\n",
    "    next_state = env.step(temp_actions[action], update=True)\n",
    "    reward = env.getReward(env.state)\n",
    "    print(next_state)\n",
    "    env.render()"
   ]
  },
  {
   "cell_type": "code",
   "execution_count": null,
   "metadata": {},
   "outputs": [],
   "source": []
  }
 ],
 "metadata": {
  "kernelspec": {
   "display_name": "Python 3",
   "language": "python",
   "name": "python3"
  },
  "language_info": {
   "codemirror_mode": {
    "name": "ipython",
    "version": 3
   },
   "file_extension": ".py",
   "mimetype": "text/x-python",
   "name": "python",
   "nbconvert_exporter": "python",
   "pygments_lexer": "ipython3",
   "version": "3.6.9"
  }
 },
 "nbformat": 4,
 "nbformat_minor": 4
}
